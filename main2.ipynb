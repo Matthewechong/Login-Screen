{
 "cells": [
  {
   "cell_type": "code",
   "execution_count": 1,
   "metadata": {},
   "outputs": [],
   "source": [
    "from utils2 import*\n",
    "import pandas as pd\n",
    "from signup import*\n",
    "from login import*\n"
   ]
  },
  {
   "cell_type": "code",
   "execution_count": 2,
   "metadata": {},
   "outputs": [
    {
     "data": {
      "text/html": [
       "<div>\n",
       "<style scoped>\n",
       "    .dataframe tbody tr th:only-of-type {\n",
       "        vertical-align: middle;\n",
       "    }\n",
       "\n",
       "    .dataframe tbody tr th {\n",
       "        vertical-align: top;\n",
       "    }\n",
       "\n",
       "    .dataframe thead th {\n",
       "        text-align: right;\n",
       "    }\n",
       "</style>\n",
       "<table border=\"1\" class=\"dataframe\">\n",
       "  <thead>\n",
       "    <tr style=\"text-align: right;\">\n",
       "      <th></th>\n",
       "      <th>Username</th>\n",
       "      <th>Password</th>\n",
       "      <th>First</th>\n",
       "      <th>Last</th>\n",
       "    </tr>\n",
       "  </thead>\n",
       "  <tbody>\n",
       "    <tr>\n",
       "      <th>0</th>\n",
       "      <td>b'gAAAAABiaJFXFyGFVomypyeC87QyHU-aclmvGt-G0xGX...</td>\n",
       "      <td>b'gAAAAABiaJFXWJ2VYXc78udrApyQWhRQYhjAzrMv11FF...</td>\n",
       "      <td>b'gAAAAABiaJFXwEKYEpF7iC3xbUn6uyW-DKWY2lswonZA...</td>\n",
       "      <td>b'gAAAAABiaJFXoEbxeeQPt1Ri-bZsXP3Pjb-W1FJU0nCH...</td>\n",
       "    </tr>\n",
       "    <tr>\n",
       "      <th>1</th>\n",
       "      <td>b'gAAAAABidiAT4wnqoij7ThURwBaWKmz8EXgqMziicUL3...</td>\n",
       "      <td>b'gAAAAABidiATf2uQrXiu15PsFAS3NBIVihiS5Lk-CaX6...</td>\n",
       "      <td>b'gAAAAABidiATQ64I2IPqBz5qP-7WBZaPHnHJSl6_4FGv...</td>\n",
       "      <td>b'gAAAAABidiATh-9-xOW2zoLTEO3l9TwFNBCH3dVjwwoy...</td>\n",
       "    </tr>\n",
       "  </tbody>\n",
       "</table>\n",
       "</div>"
      ],
      "text/plain": [
       "                                            Username  \\\n",
       "0  b'gAAAAABiaJFXFyGFVomypyeC87QyHU-aclmvGt-G0xGX...   \n",
       "1  b'gAAAAABidiAT4wnqoij7ThURwBaWKmz8EXgqMziicUL3...   \n",
       "\n",
       "                                            Password  \\\n",
       "0  b'gAAAAABiaJFXWJ2VYXc78udrApyQWhRQYhjAzrMv11FF...   \n",
       "1  b'gAAAAABidiATf2uQrXiu15PsFAS3NBIVihiS5Lk-CaX6...   \n",
       "\n",
       "                                               First  \\\n",
       "0  b'gAAAAABiaJFXwEKYEpF7iC3xbUn6uyW-DKWY2lswonZA...   \n",
       "1  b'gAAAAABidiATQ64I2IPqBz5qP-7WBZaPHnHJSl6_4FGv...   \n",
       "\n",
       "                                                Last  \n",
       "0  b'gAAAAABiaJFXoEbxeeQPt1Ri-bZsXP3Pjb-W1FJU0nCH...  \n",
       "1  b'gAAAAABidiATh-9-xOW2zoLTEO3l9TwFNBCH3dVjwwoy...  "
      ]
     },
     "execution_count": 2,
     "metadata": {},
     "output_type": "execute_result"
    }
   ],
   "source": [
    "df = pd.read_csv('credentials.csv')\n",
    "df"
   ]
  },
  {
   "cell_type": "code",
   "execution_count": 40,
   "metadata": {},
   "outputs": [
    {
     "name": "stdout",
     "output_type": "stream",
     "text": [
      "The String binary value is b'gAAAAABiaJFXFyGFVomypyeC87QyHU-aclmvGt-G0xGXt6FDBLJXDboW08hZ3x0K80lUO6_ZmbjF3kVqxZRsiFBMo09Jlxf8zA=='\n",
      "<class 'str'>\n"
     ]
    }
   ],
   "source": [
    "value = df['Username'].iloc[0]\n",
    "print(\"The String binary value is {}\".format(value))\n",
    "print(type(value))\n"
   ]
  },
  {
   "cell_type": "code",
   "execution_count": 5,
   "metadata": {},
   "outputs": [
    {
     "name": "stdout",
     "output_type": "stream",
     "text": [
      "The Byte binary value is b'gAAAAABidiAT4wnqoij7ThURwBaWKmz8EXgqMziicUL3FTavQGAs5iHzvLMwcivKozDgha--DrKP1WPMahYzoRtZ0is5yK3Zyw=='\n",
      "<class 'bytes'>\n"
     ]
    }
   ],
   "source": [
    "value = df['Username'].iloc[1]\n",
    "byte_value = stringToBytes(value)\n",
    "print(\"The Byte binary value is {}\".format(byte_value))\n",
    "print(type(byte_value))"
   ]
  },
  {
   "cell_type": "code",
   "execution_count": 6,
   "metadata": {},
   "outputs": [
    {
     "name": "stdout",
     "output_type": "stream",
     "text": [
      "Decrypt\n",
      "Decoded message is: matthewechong\n",
      "matthewechong\n"
     ]
    }
   ],
   "source": [
    "print(decrypt_msg(byte_value,get_key()))"
   ]
  },
  {
   "cell_type": "code",
   "execution_count": 24,
   "metadata": {},
   "outputs": [
    {
     "data": {
      "text/plain": [
       "\"b'gAAAAABiaJFXFyGFVomypyeC87QyHU-aclmvGt-G0xGXt6FDBLJXDboW08hZ3x0K80lUO6_ZmbjF3kVqxZRsiFBMo09Jlxf8zA=='\""
      ]
     },
     "execution_count": 24,
     "metadata": {},
     "output_type": "execute_result"
    }
   ],
   "source": [
    "df['Username'].iloc[0]"
   ]
  },
  {
   "cell_type": "code",
   "execution_count": null,
   "metadata": {},
   "outputs": [],
   "source": [
    "brady = {\n",
    "    'Age' : 14,\n",
    "    'Favorite Food' : 'Rasin Canes',\n",
    "    'Pets' : 'Chickens, Dogs, Fish'\n",
    "}"
   ]
  }
 ],
 "metadata": {
  "interpreter": {
   "hash": "51aafb5c7e063967aed0c3df58216494e1a61253c05e2b5539ec93f0ae2f7023"
  },
  "kernelspec": {
   "display_name": "Python 3.10.2 64-bit",
   "language": "python",
   "name": "python3"
  },
  "language_info": {
   "codemirror_mode": {
    "name": "ipython",
    "version": 3
   },
   "file_extension": ".py",
   "mimetype": "text/x-python",
   "name": "python",
   "nbconvert_exporter": "python",
   "pygments_lexer": "ipython3",
   "version": "3.10.2"
  },
  "orig_nbformat": 4
 },
 "nbformat": 4,
 "nbformat_minor": 2
}
